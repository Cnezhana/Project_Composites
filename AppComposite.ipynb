{
  "nbformat": 4,
  "nbformat_minor": 0,
  "metadata": {
    "colab": {
      "provenance": []
    },
    "kernelspec": {
      "name": "python3",
      "display_name": "Python 3"
    },
    "language_info": {
      "name": "python"
    }
  },
  "cells": [
    {
      "cell_type": "code",
      "source": [
        "import numpy as np\n",
        "import tensorflow as tf\n",
        "from tensorflow import keras\n",
        "from flask import Flask, request, render_template\n",
        "from keras.models import Sequential\n",
        "from tensorflow.keras import layers\n",
        "from keras.layers import Dense, Activation\n",
        "from sklearn.metrics import accuracy_score\n",
        "\n",
        "app = Flask(__name__, template_folder = 'templates')\n",
        "\n",
        "model_NN = \"model_NN.h5\"\n",
        "html_NN = \"index.html\"\n",
        "\n",
        "def set_params(parametr1, parametr2, parametr3, parametr4, parametr5, parametr6, parametr7, parametr8, parametr9, parametr10, parametr11, parametr12):\n",
        "    print(parametr1, parametr2, parametr3, parametr4, parametr5, parametr6, parametr7, parametr8, parametr9, parametr10, parametr11, parametr12)\n",
        "    model = keras.models.load_model(model_NN)\n",
        "    print('done_load')\n",
        "    mylist = [parametr1, parametr2, parametr3, parametr4, parametr5, parametr6, parametr7, parametr8, parametr9, parametr10, parametr11, parametr12]\n",
        "    mylist = np.array(mylist)\n",
        "    mylist = mylist.reshape(1,-1)\n",
        "    prediction = model.predict(mylist)\n",
        "    print('done_pred')\n",
        "    return prediction[0][0]\n",
        "\n",
        "@app.route('/', methods=['post', 'get'])\n",
        "@app.route('/index', methods = ['POST', 'GET'])\n",
        "\n",
        "def app_calculation():\n",
        "    param_lst = []\n",
        "    message = ''\n",
        "    max_num = 5.59174159869754\n",
        "    min_num = 0.389402605178414\n",
        "    if request.method == 'GET':\n",
        "      return render_template(html_NN)\n",
        "\n",
        "    if request.method == 'POST':\n",
        "        for i in range(1,13,1):\n",
        "            param = request.form.get(f'param{i}')\n",
        "            param_lst.append(float(param))            \n",
        "        message = set_params(*param_lst)\n",
        "        message = (message * (max_num - min_num)) + min_num\n",
        "    return render_template(html_NN, message=message) \n",
        " \n",
        "app.run()"
      ],
      "metadata": {
        "colab": {
          "base_uri": "https://localhost:8080/"
        },
        "id": "lfSKVgnIqS1R",
        "outputId": "0914b6f9-8936-4a99-fdd3-4ed225bfd8fd"
      },
      "execution_count": null,
      "outputs": [
        {
          "output_type": "stream",
          "name": "stdout",
          "text": [
            " * Serving Flask app '__main__'\n",
            " * Debug mode: off\n"
          ]
        },
        {
          "output_type": "stream",
          "name": "stderr",
          "text": [
            "INFO:werkzeug:\u001b[31m\u001b[1mWARNING: This is a development server. Do not use it in a production deployment. Use a production WSGI server instead.\u001b[0m\n",
            " * Running on http://127.0.0.1:5000\n",
            "INFO:werkzeug:\u001b[33mPress CTRL+C to quit\u001b[0m\n"
          ]
        }
      ]
    }
  ]
}